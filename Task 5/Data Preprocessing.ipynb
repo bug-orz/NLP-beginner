{
 "cells": [
  {
   "cell_type": "code",
   "execution_count": 1,
   "metadata": {},
   "outputs": [],
   "source": [
    "import pandas as pd\n",
    "import re\n",
    "\n",
    "CLS='[CLS]'\n",
    "SEP='[SEP]'\n",
    "EOS='[EOS]'"
   ]
  },
  {
   "cell_type": "code",
   "execution_count": 2,
   "metadata": {},
   "outputs": [
    {
     "data": {
      "text/plain": [
       "['倡家少妇不须嚬',\n",
       " '闻就庞公隐',\n",
       " '眷言华省旧',\n",
       " '怡然敬父执',\n",
       " '击鼍鼓',\n",
       " '深山大泽龙蛇远',\n",
       " '何由满衣袖',\n",
       " '名垂万古知何用',\n",
       " '夜深殿突兀',\n",
       " '感子故意长']"
      ]
     },
     "execution_count": 2,
     "metadata": {},
     "output_type": "execute_result"
    }
   ],
   "source": [
    "with open('./data/poetryFromTang.txt',encoding='utf-8') as fp:\n",
    "    data=fp.read()\n",
    "\n",
    "data=list(set(re.split('\\n|，|。',data)))[2:]\n",
    "data[:10]"
   ]
  },
  {
   "cell_type": "code",
   "execution_count": 3,
   "metadata": {},
   "outputs": [
    {
     "data": {
      "text/plain": [
       "['当', '凌', '绝', '顶']"
      ]
     },
     "execution_count": 3,
     "metadata": {},
     "output_type": "execute_result"
    }
   ],
   "source": [
    "def text_process(text):\n",
    "    tokens=[]\n",
    "    labels=[]\n",
    "    for i in range(1,len(text)):\n",
    "        tokens.append(text[:i])\n",
    "        labels.append(text[i])\n",
    "    #tokens.append(text)\n",
    "    #labels.append(EOS)\n",
    "    return tokens, labels\n",
    "\n",
    "text_process('会当凌绝顶')[1]\n",
    "\n"
   ]
  },
  {
   "cell_type": "code",
   "execution_count": 4,
   "metadata": {},
   "outputs": [],
   "source": [
    "tokens=[];label_ch=[];labels=[]\n",
    "for text in data:\n",
    "    processed=text_process(text)\n",
    "    tokens+=processed[0]\n",
    "    label_ch+=processed[1]\n",
    "\n",
    "temp=list(set(label_ch))\n",
    "\n",
    "for l in label_ch:\n",
    "    labels.append(temp.index(l))\n",
    "    \n",
    "import pickle\n",
    "with open(\"./data/vocab_index\", \"wb\") as fp:   #Pickling   \n",
    "    pickle.dump(temp, fp)"
   ]
  },
  {
   "cell_type": "code",
   "execution_count": 5,
   "metadata": {},
   "outputs": [
    {
     "data": {
      "text/html": [
       "<div>\n",
       "<style scoped>\n",
       "    .dataframe tbody tr th:only-of-type {\n",
       "        vertical-align: middle;\n",
       "    }\n",
       "\n",
       "    .dataframe tbody tr th {\n",
       "        vertical-align: top;\n",
       "    }\n",
       "\n",
       "    .dataframe thead th {\n",
       "        text-align: right;\n",
       "    }\n",
       "</style>\n",
       "<table border=\"1\" class=\"dataframe\">\n",
       "  <thead>\n",
       "    <tr style=\"text-align: right;\">\n",
       "      <th></th>\n",
       "      <th>text</th>\n",
       "      <th>label</th>\n",
       "    </tr>\n",
       "  </thead>\n",
       "  <tbody>\n",
       "    <tr>\n",
       "      <th>0</th>\n",
       "      <td>倡</td>\n",
       "      <td>1643</td>\n",
       "    </tr>\n",
       "    <tr>\n",
       "      <th>1</th>\n",
       "      <td>倡家</td>\n",
       "      <td>43</td>\n",
       "    </tr>\n",
       "    <tr>\n",
       "      <th>2</th>\n",
       "      <td>倡家少</td>\n",
       "      <td>1681</td>\n",
       "    </tr>\n",
       "    <tr>\n",
       "      <th>3</th>\n",
       "      <td>倡家少妇</td>\n",
       "      <td>667</td>\n",
       "    </tr>\n",
       "    <tr>\n",
       "      <th>4</th>\n",
       "      <td>倡家少妇不</td>\n",
       "      <td>927</td>\n",
       "    </tr>\n",
       "    <tr>\n",
       "      <th>5</th>\n",
       "      <td>倡家少妇不须</td>\n",
       "      <td>249</td>\n",
       "    </tr>\n",
       "    <tr>\n",
       "      <th>6</th>\n",
       "      <td>闻</td>\n",
       "      <td>1020</td>\n",
       "    </tr>\n",
       "    <tr>\n",
       "      <th>7</th>\n",
       "      <td>闻就</td>\n",
       "      <td>1798</td>\n",
       "    </tr>\n",
       "    <tr>\n",
       "      <th>8</th>\n",
       "      <td>闻就庞</td>\n",
       "      <td>784</td>\n",
       "    </tr>\n",
       "    <tr>\n",
       "      <th>9</th>\n",
       "      <td>闻就庞公</td>\n",
       "      <td>839</td>\n",
       "    </tr>\n",
       "  </tbody>\n",
       "</table>\n",
       "</div>"
      ],
      "text/plain": [
       "     text  label\n",
       "0       倡   1643\n",
       "1      倡家     43\n",
       "2     倡家少   1681\n",
       "3    倡家少妇    667\n",
       "4   倡家少妇不    927\n",
       "5  倡家少妇不须    249\n",
       "6       闻   1020\n",
       "7      闻就   1798\n",
       "8     闻就庞    784\n",
       "9    闻就庞公    839"
      ]
     },
     "execution_count": 5,
     "metadata": {},
     "output_type": "execute_result"
    }
   ],
   "source": [
    "dataset=pd.DataFrame({'text':tokens,'label':labels})\n",
    "dataset.to_csv('./data/processed_poetry.csv',index=False)\n",
    "dataset[:-1300].to_csv('./data/train.csv',index=False)\n",
    "dataset[-1300:].to_csv('./data/test.csv',index=False)\n",
    "dataset.head(10)"
   ]
  }
 ],
 "metadata": {
  "kernelspec": {
   "display_name": "Python 3",
   "language": "python",
   "name": "python3"
  },
  "language_info": {
   "codemirror_mode": {
    "name": "ipython",
    "version": 3
   },
   "file_extension": ".py",
   "mimetype": "text/x-python",
   "name": "python",
   "nbconvert_exporter": "python",
   "pygments_lexer": "ipython3",
   "version": "3.8.3"
  }
 },
 "nbformat": 4,
 "nbformat_minor": 4
}
